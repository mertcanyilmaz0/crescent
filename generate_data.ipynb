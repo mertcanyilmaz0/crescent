{
 "cells": [
  {
   "cell_type": "code",
   "execution_count": 4,
   "id": "9bf19961-99d1-4064-b014-05399a65aecb",
   "metadata": {},
   "outputs": [],
   "source": []
  },
  {
   "cell_type": "code",
   "execution_count": 3,
   "id": "b2109e61-e171-4b4e-9b78-e12929abd692",
   "metadata": {},
   "outputs": [],
   "source": [
    "import random\n",
    "import pandas as pd\n",
    "import numpy as np\n",
    "\n",
    "element_weights = {\n",
    "    \"He\": {\"life\": 0.1, \"science\": 0.7, \"mining\": 0.3},\n",
    "    \"Ne\": {\"life\": 0.2, \"science\": 0.5, \"mining\": 0.2},\n",
    "    \"Cl\": {\"life\": 0.35, \"science\": 0.35, \"mining\": 0.76},\n",
    "    \"Mg\": {\"life\": 0.74, \"science\": 0.84, \"mining\": 0.4},\n",
    "    \"Ti\": {\"life\": 0.32, \"science\": 0.67, \"mining\": 0.82},\n",
    "    \"Fe\": {\"life\": 0.68, \"science\": 0.86, \"mining\": 0.94},\n",
    "    \"Ag\": {\"life\": 0.46, \"science\": 0.63, \"mining\": 0.84},\n",
    "    \"Ni\": {\"life\": 0.13, \"science\": 0.58, \"mining\": 0.68},\n",
    "    \"Si\": {\"life\": 0.78, \"science\": 0.79, \"mining\": 0.86},\n",
    "    \"Cu\": {\"life\": 0.31, \"science\": 0.53, \"mining\": 0.5},\n",
    "    \"Mn\": {\"life\": 0.56, \"science\": 0.72, \"mining\": 0.58},\n",
    "    \"Pt\": {\"life\": 0.14, \"science\": 0.84, \"mining\": 0.67},\n",
    "    \"U\": {\"life\": 0, \"science\": 0.84, \"mining\": 0.62},\n",
    "    \"Al\": {\"life\": 0.05, \"science\": 0.68, \"mining\": 0.53},\n",
    "    \"Ar\": {\"life\": 0.04, \"science\": 0.48, \"mining\": 0.1},\n",
    "    \"N\": {\"life\": 0.83, \"science\": 0.59, \"mining\": 0.2},\n",
    "    \"Zn\": {\"life\": 0.45, \"science\": 0.47, \"mining\": 0.73},\n",
    "    \"P\": {\"life\": 0.94, \"science\": 0.87, \"mining\": 0.0},\n",
    "    \"H\": {\"life\": 0.3, \"science\": 0.64, \"mining\": 0.05},\n",
    "    \"Ca\": {\"life\": 0.24 , \"science\": 0.35, \"mining\": 0.57},\n",
    "    \"C\": {\"life\": 0.97,\"science\": 0.54, \"mining\": 0.84},\n",
    "    \"Cr\": {\"life\": 0.03,\"science\": 0.43,\"mining\": 0.71},\n",
    "    \"S\": {\"life\": 0.82,\"science\": 0.74,\"mining\": 0.64},\n",
    "    \"Li\": {\"life\": 0.13,\"science\": 0.67,\"mining\": 0.75},\n",
    "    \"Na\": {\"life\": 0.86,\"science\": 0.72,\"mining\": 0.67},\n",
    "    \"V\": {\"life\": 0.34,\"science\": 0.64,\"mining\": 0.76},\n",
    "}\n",
    "\n",
    "elements = list(element_weights.keys())\n",
    "\n",
    "def generate_data(num_samples=1500):\n",
    "    data = []\n",
    "    for _ in range(num_samples):\n",
    "        sample = {}\n",
    "        for el in elements:\n",
    "            sample[el] = round(random.uniform(0.1, 1.0), 2) + np.random.normal(0, 0.02)\n",
    "        \n",
    "        sample['life_score'] = sum(sample[el] * element_weights[el]['life'] for el in elements) / sum(element_weights[el]['life'] for el in elements)\n",
    "        sample['science_score'] = sum(sample[el] * element_weights[el]['science'] for el in elements) / sum(element_weights[el]['science'] for el in elements)\n",
    "        sample['mining_score'] = sum(sample[el] * element_weights[el]['mining'] for el in elements) / sum(element_weights[el]['mining'] for el in elements)\n",
    "        sample['success_score'] = (\n",
    "            0.4 * sample['life_score'] +\n",
    "            0.4 * sample['science_score'] +\n",
    "            0.2 * sample['mining_score']\n",
    "        )\n",
    "\n",
    "        data.append(sample)\n",
    "    \n",
    "    df = pd.DataFrame(data)\n",
    "    df.to_csv(\"element_verileri.csv\", index=False)\n",
    "    return df\n",
    "\n",
    "# Veri oluştur ve kaydet\n",
    "df = generate_data(1000)\n"
   ]
  },
  {
   "cell_type": "code",
   "execution_count": null,
   "id": "22bba4c4-4a5f-4edf-8fa7-4c8255034b9f",
   "metadata": {},
   "outputs": [],
   "source": []
  }
 ],
 "metadata": {
  "kernelspec": {
   "display_name": "Python 3 (ipykernel)",
   "language": "python",
   "name": "python3"
  },
  "language_info": {
   "codemirror_mode": {
    "name": "ipython",
    "version": 3
   },
   "file_extension": ".py",
   "mimetype": "text/x-python",
   "name": "python",
   "nbconvert_exporter": "python",
   "pygments_lexer": "ipython3",
   "version": "3.13.3"
  }
 },
 "nbformat": 4,
 "nbformat_minor": 5
}
